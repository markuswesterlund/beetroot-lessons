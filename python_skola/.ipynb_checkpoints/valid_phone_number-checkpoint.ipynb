{
 "cells": [
  {
   "cell_type": "code",
   "execution_count": null,
   "metadata": {},
   "outputs": [],
   "source": [
    "def phone_number(int):\n",
    "    if type(int) and len(int) == 10:\n",
    "        return \"Your phone number is a valid phone number.\"\n",
    "    elif type(int) and len(int) != 10:\n",
    "        return \"Please enter a valid phone number.\"\n",
    "\n",
    "\n",
    "\n",
    "print(phone_number(input(\"Enter your phone number here:\")))"
   ]
  }
 ],
 "metadata": {
  "kernelspec": {
   "display_name": "Python 3",
   "language": "python",
   "name": "python3"
  },
  "language_info": {
   "codemirror_mode": {
    "name": "ipython",
    "version": 3
   },
   "file_extension": ".py",
   "mimetype": "text/x-python",
   "name": "python",
   "nbconvert_exporter": "python",
   "pygments_lexer": "ipython3",
   "version": "3.8.6"
  }
 },
 "nbformat": 4,
 "nbformat_minor": 4
}
