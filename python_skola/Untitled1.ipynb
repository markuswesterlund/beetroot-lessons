{
 "cells": [
  {
   "cell_type": "code",
   "execution_count": 13,
   "metadata": {},
   "outputs": [
    {
     "name": "stdout",
     "output_type": "stream",
     "text": [
      "Enter your phone number here:asd\n",
      "Please enter a valid phone number.\n",
      "None\n"
     ]
    }
   ],
   "source": [
    "def phone_number(int):\n",
    "    if type(int) and len(int) == 10:\n",
    "        print(\"Your phone number is a valid phone number.\")\n",
    "    else:\n",
    "        print(\"Please enter a valid phone number.\")\n",
    "\n",
    "\n",
    "print(phone_number(input(\"Enter your phone number here:\")))"
   ]
  },
  {
   "cell_type": "code",
   "execution_count": null,
   "metadata": {},
   "outputs": [],
   "source": []
  }
 ],
 "metadata": {
  "kernelspec": {
   "display_name": "Python 3",
   "language": "python",
   "name": "python3"
  },
  "language_info": {
   "codemirror_mode": {
    "name": "ipython",
    "version": 3
   },
   "file_extension": ".py",
   "mimetype": "text/x-python",
   "name": "python",
   "nbconvert_exporter": "python",
   "pygments_lexer": "ipython3",
   "version": "3.8.6"
  }
 },
 "nbformat": 4,
 "nbformat_minor": 4
}
