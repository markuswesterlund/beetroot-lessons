{
 "metadata": {
  "language_info": {
   "codemirror_mode": {
    "name": "ipython",
    "version": 3
   },
   "file_extension": ".py",
   "mimetype": "text/x-python",
   "name": "python",
   "nbconvert_exporter": "python",
   "pygments_lexer": "ipython3",
   "version": "3.9.1-final"
  },
  "orig_nbformat": 2,
  "kernelspec": {
   "name": "python3",
   "display_name": "Python 3.9.1 64-bit",
   "metadata": {
    "interpreter": {
     "hash": "5ce001776fa5531bbc673893aeb1fe908bd17b68b1e860b6246b812b679b5fe6"
    }
   }
  }
 },
 "nbformat": 4,
 "nbformat_minor": 2,
 "cells": [
  {
   "cell_type": "code",
   "execution_count": 10,
   "metadata": {},
   "outputs": [
    {
     "output_type": "stream",
     "name": "stdout",
     "text": [
      "18\n36\n"
     ]
    }
   ],
   "source": [
    "def double_value(value):\n",
    "    \"\"\"Returns passed argument doubled\"\"\"\n",
    "    return value * 2\n",
    "\n",
    "age = 18\n",
    "print(age)\n",
    "print(double_value(age))"
   ]
  },
  {
   "cell_type": "code",
   "execution_count": 4,
   "metadata": {},
   "outputs": [
    {
     "output_type": "execute_result",
     "data": {
      "text/plain": [
       "['__annotations__',\n",
       " '__call__',\n",
       " '__class__',\n",
       " '__closure__',\n",
       " '__code__',\n",
       " '__defaults__',\n",
       " '__delattr__',\n",
       " '__dict__',\n",
       " '__dir__',\n",
       " '__doc__',\n",
       " '__eq__',\n",
       " '__format__',\n",
       " '__ge__',\n",
       " '__get__',\n",
       " '__getattribute__',\n",
       " '__globals__',\n",
       " '__gt__',\n",
       " '__hash__',\n",
       " '__init__',\n",
       " '__init_subclass__',\n",
       " '__kwdefaults__',\n",
       " '__le__',\n",
       " '__lt__',\n",
       " '__module__',\n",
       " '__name__',\n",
       " '__ne__',\n",
       " '__new__',\n",
       " '__qualname__',\n",
       " '__reduce__',\n",
       " '__reduce_ex__',\n",
       " '__repr__',\n",
       " '__setattr__',\n",
       " '__sizeof__',\n",
       " '__str__',\n",
       " '__subclasshook__']"
      ]
     },
     "metadata": {},
     "execution_count": 4
    }
   ],
   "source": [
    "dir(double_value)"
   ]
  },
  {
   "cell_type": "code",
   "execution_count": 11,
   "metadata": {},
   "outputs": [
    {
     "output_type": "stream",
     "name": "stdout",
     "text": [
      "__class__: <class 'function'>\n__doc__: Returns passed argument doubled\n__name__: double_value\n__qualname__: double_value\n__annotations__: {}\n__repr__: <function double_value at 0x000001807A6B1D30>\n"
     ]
    }
   ],
   "source": [
    "print(\"__class__:\", double_value.__class__)\n",
    "print(\"__doc__:\", double_value.__doc__)\n",
    "print(\"__name__:\", double_value.__name__)\n",
    "print(\"__qualname__:\", double_value.__qualname__)\n",
    "print(\"__annotations__:\", double_value.__annotations__)\n",
    "print(\"__repr__:\", repr(double_value))\n"
   ]
  },
  {
   "cell_type": "code",
   "execution_count": 13,
   "metadata": {},
   "outputs": [
    {
     "output_type": "stream",
     "name": "stdout",
     "text": [
      "4\n"
     ]
    }
   ],
   "source": [
    "def apply_func(func, value):\n",
    "    if value is None:\n",
    "        raise ValueError(\"None value is not allowed\")\n",
    "    return func(value)"
   ]
  },
  {
   "cell_type": "code",
   "execution_count": 15,
   "metadata": {},
   "outputs": [
    {
     "output_type": "stream",
     "name": "stdout",
     "text": [
      "20\n"
     ]
    }
   ],
   "source": [
    "length = 10\n",
    "print(apply_func(double_value, length))"
   ]
  },
  {
   "cell_type": "code",
   "execution_count": 17,
   "metadata": {},
   "outputs": [
    {
     "output_type": "stream",
     "name": "stdout",
     "text": [
      "[20, 24, 8, 10, -6]\n"
     ]
    }
   ],
   "source": [
    "numbers = [10, 12, 4, 5, -3]\n",
    "result = list(map(double_value, numbers))\n",
    "print(result)\n"
   ]
  },
  {
   "cell_type": "code",
   "execution_count": 20,
   "metadata": {},
   "outputs": [
    {
     "output_type": "stream",
     "name": "stdout",
     "text": [
      "Original value: 11\nChanged value: 33\n"
     ]
    }
   ],
   "source": [
    "def scale_value_factory(scale):\n",
    "    def apply(value):\n",
    "        return scale * value\n",
    "    \n",
    "    return apply\n",
    "\n",
    "triple_value = scale_value_factory(3)\n",
    "\n",
    "# print(type(triple_value))\n",
    "\n",
    "number = 11\n",
    "print(\"Original value:\", number)\n",
    "print(\"Changed value:\", triple_value(number))"
   ]
  },
  {
   "cell_type": "code",
   "execution_count": 21,
   "metadata": {},
   "outputs": [
    {
     "output_type": "stream",
     "name": "stdout",
     "text": [
      "[30, 36, 12, 15, -9]\n"
     ]
    }
   ],
   "source": [
    "print(list(map(triple_value, numbers)))"
   ]
  },
  {
   "cell_type": "code",
   "execution_count": 24,
   "metadata": {},
   "outputs": [
    {
     "output_type": "stream",
     "name": "stdout",
     "text": [
      "[{'first_name': 'Dave', 'last_name': 'Silva', 'email': 'dave.silva@example.com', 'age': '18'}, {'first_name': 'Ruby', 'last_name': 'Terry', 'email': 'ruby.terry@example.com', 'age': '20'}, {'first_name': 'Leona', 'last_name': 'Austin', 'email': 'leona.austin@example.com', 'age': '21'}]\n\n[{'first_name': 'Dave', 'last_name': 'Silva', 'email': 'dave.silva@example.com', 'age': '18'}, {'first_name': 'Leona', 'last_name': 'Austin', 'email': 'leona.austin@example.com', 'age': '21'}, {'first_name': 'Ruby', 'last_name': 'Terry', 'email': 'ruby.terry@example.com', 'age': '20'}]\n\n[{'first_name': 'Dave', 'last_name': 'Silva', 'email': 'dave.silva@example.com', 'age': '18'}, {'first_name': 'Ruby', 'last_name': 'Terry', 'email': 'ruby.terry@example.com', 'age': '20'}, {'first_name': 'Leona', 'last_name': 'Austin', 'email': 'leona.austin@example.com', 'age': '21'}]\n"
     ]
    }
   ],
   "source": [
    "employees = [\n",
    "    {\"first_name\": \"Dave\", \"last_name\": \"Silva\", \"email\": \"dave.silva@example.com\", \"age\": \"18\"},\n",
    "    {\"first_name\": \"Ruby\", \"last_name\": \"Terry\", \"email\": \"ruby.terry@example.com\", \"age\": \"20\"},\n",
    "    {\"first_name\": \"Leona\", \"last_name\": \"Austin\", \"email\": \"leona.austin@example.com\", \"age\": \"21\"}\n",
    "]\n",
    "\n",
    "print(employees)\n",
    "\n",
    "def get_first_name(employee):\n",
    "    return employee[\"first_name\"]\n",
    "\n",
    "def get_age(employee):\n",
    "    return employee[\"age\"]\n",
    "\n",
    "print(\"\")\n",
    "print(list(sorted(employees, key=get_first_name)))\n",
    "\n",
    "print(\"\")\n",
    "print(list(sorted(employees, key=get_age)))"
   ]
  },
  {
   "cell_type": "code",
   "execution_count": 29,
   "metadata": {},
   "outputs": [
    {
     "output_type": "stream",
     "name": "stdout",
     "text": [
      "[30, 20, 50]\n"
     ]
    }
   ],
   "source": [
    "def add_10(value):\n",
    "    return value + 10\n",
    "\n",
    "def sub_5(value):\n",
    "    return value - 5\n",
    "\n",
    "processors = [add_10, sub_5, double_value]\n",
    "\n",
    "numbers = [10, 5, 20]\n",
    "result = []\n",
    "\n",
    "for number in numbers:\n",
    "    value = number\n",
    "    for func in processors:\n",
    "        value = func(value)\n",
    "    result.append(value)\n",
    "\n",
    "print(result)"
   ]
  },
  {
   "cell_type": "code",
   "execution_count": null,
   "metadata": {},
   "outputs": [],
   "source": [
    "def add(a, b):\n",
    "    return a + b\n",
    "\n",
    "def sub(a, b):\n",
    "    return a - b\n",
    "\n",
    "def mul(a, b):\n",
    "    return a * b\n",
    "    "
   ]
  }
 ]
}