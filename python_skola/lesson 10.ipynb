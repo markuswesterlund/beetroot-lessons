{
 "metadata": {
  "language_info": {
   "codemirror_mode": {
    "name": "ipython",
    "version": 3
   },
   "file_extension": ".py",
   "mimetype": "text/x-python",
   "name": "python",
   "nbconvert_exporter": "python",
   "pygments_lexer": "ipython3",
   "version": "3.9.1-final"
  },
  "orig_nbformat": 2,
  "kernelspec": {
   "name": "python3",
   "display_name": "Python 3.9.1 64-bit",
   "metadata": {
    "interpreter": {
     "hash": "5ce001776fa5531bbc673893aeb1fe908bd17b68b1e860b6246b812b679b5fe6"
    }
   }
  }
 },
 "nbformat": 4,
 "nbformat_minor": 2,
 "cells": [
  {
   "cell_type": "code",
   "execution_count": 2,
   "metadata": {},
   "outputs": [
    {
     "output_type": "stream",
     "name": "stdout",
     "text": [
      "<class 'int'>\n<class 'str'>\n<class 'function'>\n"
     ]
    }
   ],
   "source": [
    "def hello():\n",
    "    pass\n",
    "\n",
    "print(type(1))\n",
    "print(type(\"q\"))\n",
    "print(type(hello))"
   ]
  },
  {
   "cell_type": "code",
   "execution_count": 7,
   "metadata": {},
   "outputs": [
    {
     "output_type": "execute_result",
     "data": {
      "text/plain": [
       "['__add__',\n",
       " '__class__',\n",
       " '__contains__',\n",
       " '__delattr__',\n",
       " '__dir__',\n",
       " '__doc__',\n",
       " '__eq__',\n",
       " '__format__',\n",
       " '__ge__',\n",
       " '__getattribute__',\n",
       " '__getitem__',\n",
       " '__getnewargs__',\n",
       " '__gt__',\n",
       " '__hash__',\n",
       " '__init__',\n",
       " '__init_subclass__',\n",
       " '__iter__',\n",
       " '__le__',\n",
       " '__len__',\n",
       " '__lt__',\n",
       " '__mod__',\n",
       " '__mul__',\n",
       " '__ne__',\n",
       " '__new__',\n",
       " '__reduce__',\n",
       " '__reduce_ex__',\n",
       " '__repr__',\n",
       " '__rmod__',\n",
       " '__rmul__',\n",
       " '__setattr__',\n",
       " '__sizeof__',\n",
       " '__str__',\n",
       " '__subclasshook__',\n",
       " 'capitalize',\n",
       " 'casefold',\n",
       " 'center',\n",
       " 'count',\n",
       " 'encode',\n",
       " 'endswith',\n",
       " 'expandtabs',\n",
       " 'find',\n",
       " 'format',\n",
       " 'format_map',\n",
       " 'index',\n",
       " 'isalnum',\n",
       " 'isalpha',\n",
       " 'isascii',\n",
       " 'isdecimal',\n",
       " 'isdigit',\n",
       " 'isidentifier',\n",
       " 'islower',\n",
       " 'isnumeric',\n",
       " 'isprintable',\n",
       " 'isspace',\n",
       " 'istitle',\n",
       " 'isupper',\n",
       " 'join',\n",
       " 'ljust',\n",
       " 'lower',\n",
       " 'lstrip',\n",
       " 'maketrans',\n",
       " 'partition',\n",
       " 'removeprefix',\n",
       " 'removesuffix',\n",
       " 'replace',\n",
       " 'rfind',\n",
       " 'rindex',\n",
       " 'rjust',\n",
       " 'rpartition',\n",
       " 'rsplit',\n",
       " 'rstrip',\n",
       " 'split',\n",
       " 'splitlines',\n",
       " 'startswith',\n",
       " 'strip',\n",
       " 'swapcase',\n",
       " 'title',\n",
       " 'translate',\n",
       " 'upper',\n",
       " 'zfill']"
      ]
     },
     "metadata": {},
     "execution_count": 7
    }
   ],
   "source": [
    "dir(\"a\")"
   ]
  },
  {
   "cell_type": "code",
   "execution_count": 9,
   "metadata": {},
   "outputs": [
    {
     "output_type": "execute_result",
     "data": {
      "text/plain": [
       "'A'"
      ]
     },
     "metadata": {},
     "execution_count": 9
    }
   ],
   "source": [
    "\"a\".capitalize()"
   ]
  },
  {
   "cell_type": "code",
   "execution_count": 10,
   "metadata": {},
   "outputs": [
    {
     "output_type": "stream",
     "name": "stdout",
     "text": [
      "Help on NoneType object:\n\nclass NoneType(object)\n |  Methods defined here:\n |  \n |  __bool__(self, /)\n |      self != 0\n |  \n |  __repr__(self, /)\n |      Return repr(self).\n |  \n |  ----------------------------------------------------------------------\n |  Static methods defined here:\n |  \n |  __new__(*args, **kwargs) from builtins.type\n |      Create and return a new object.  See help(type) for accurate signature.\n\n"
     ]
    }
   ],
   "source": [
    "help(hello.__doc__)"
   ]
  },
  {
   "cell_type": "code",
   "execution_count": 44,
   "metadata": {},
   "outputs": [
    {
     "output_type": "stream",
     "name": "stdout",
     "text": [
      "Hello, my name is Markus\nI am 28 years old.\n"
     ]
    }
   ],
   "source": [
    "first_name = \"Markus\"\n",
    "age = 28\n",
    "\n",
    "def say_hello(first_name=None, age=None):\n",
    "    print(\"Hello, my name is\", first_name)\n",
    "    if age:\n",
    "        print(\"I am {} years old.\".format(age))\n",
    "say_hello(\"Markus\", age=28)"
   ]
  },
  {
   "cell_type": "code",
   "execution_count": 51,
   "metadata": {},
   "outputs": [
    {
     "output_type": "stream",
     "name": "stdout",
     "text": [
      "Hello, my name is Markus\nCalled Person.__init__\n<class '__main__.Person'>\nCalled Person.__init__\nMe: None\nBarry: None\nMe: Markus\nBarry: Barry\nHello, my name is Markus\nI am 28 years old.\nMARKUS\nCalled Person.__init__\nAnother person: User\n"
     ]
    }
   ],
   "source": [
    "person_dict = {\"first_name\": \"Markus\"}\n",
    "def say_hello(item):\n",
    "    print(\"Hello, my name is\", person_dict['first_name'])\n",
    "\n",
    "say_hello(person_dict)\n",
    "\n",
    "class Person:\n",
    "    def __init__(self, first_name=None, last_name=None, age=None):\n",
    "        print(\"Called Person.__init__\")\n",
    "        self.first_name = first_name\n",
    "        self.last_name = last_name\n",
    "        self.age = age\n",
    "\n",
    "    def say_hello(self):\n",
    "        print(\"Hello, my name is\", self.first_name)\n",
    "        if self.age:\n",
    "            print(\"I am {} years old.\".format(self.age))\n",
    "\n",
    "    def get_title_first_name(self):\n",
    "        return self.first_name.upper() if self.first_name is not None else \"\"\n",
    "\n",
    "person = Person(age=28)\n",
    "print(type(person))\n",
    "\n",
    "barry = Person()\n",
    "\n",
    "print(\"Me:\", person.first_name)\n",
    "print(\"Barry:\", barry.first_name)\n",
    "\n",
    "person.first_name = \"Markus\"\n",
    "barry.first_name = \"Barry\"\n",
    "print(\"Me:\", person.first_name)\n",
    "print(\"Barry:\", barry.first_name)\n",
    "\n",
    "person.age = 28\n",
    "person.say_hello()\n",
    "\n",
    "print(person.get_title_first_name())\n",
    "\n",
    "another_person = Person(\"User\")\n",
    "print(\"Another person:\", another_person.first_name)"
   ]
  },
  {
   "cell_type": "code",
   "execution_count": 67,
   "metadata": {},
   "outputs": [
    {
     "output_type": "stream",
     "name": "stdout",
     "text": [
      "Unknown\nNumber of car models: 0\nMercedes\nNumber of car models: 1\nFord\nNumber of car models: 2\n"
     ]
    }
   ],
   "source": [
    "class Car:\n",
    "    model = \"Unknown\"\n",
    "    count = 0\n",
    "\n",
    "    def __init__(self, model, *args, **kwargs):\n",
    "        self.model = model or Car.model\n",
    "        Car.count += 1\n",
    "\n",
    "\n",
    "print(Car.model)\n",
    "print(\"Number of car models:\", Car.count)\n",
    "\n",
    "car1 = Car(\"Mercedes\")\n",
    "print(car1.model)\n",
    "print(\"Number of car models:\", Car.count)\n",
    "\n",
    "car2 = Car(\"Ford\")\n",
    "print(car2.model)\n",
    "print(\"Number of car models:\", Car.count)\n",
    "\n",
    "car3 = Car(None)"
   ]
  },
  {
   "cell_type": "code",
   "execution_count": 69,
   "metadata": {},
   "outputs": [
    {
     "output_type": "stream",
     "name": "stdout",
     "text": [
      "{<class '__main__.Person'>: 'Person class', <class '__main__.Car'>: 'Car class'}\n"
     ]
    }
   ],
   "source": [
    "from pprint import pprint\n",
    "my_classes = {Person: \"Person class\", Car: \"Car class\"}\n",
    "\n",
    "pprint(my_classes)"
   ]
  },
  {
   "cell_type": "code",
   "execution_count": null,
   "metadata": {},
   "outputs": [],
   "source": []
  }
 ]
}