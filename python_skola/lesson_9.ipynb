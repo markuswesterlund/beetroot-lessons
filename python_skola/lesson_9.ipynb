{
 "metadata": {
  "language_info": {
   "codemirror_mode": {
    "name": "ipython",
    "version": 3
   },
   "file_extension": ".py",
   "mimetype": "text/x-python",
   "name": "python",
   "nbconvert_exporter": "python",
   "pygments_lexer": "ipython3",
   "version": "3.9.1-final"
  },
  "orig_nbformat": 2,
  "kernelspec": {
   "name": "python3",
   "display_name": "Python 3.9.1 64-bit",
   "metadata": {
    "interpreter": {
     "hash": "5ce001776fa5531bbc673893aeb1fe908bd17b68b1e860b6246b812b679b5fe6"
    }
   }
  }
 },
 "nbformat": 4,
 "nbformat_minor": 2,
 "cells": [
  {
   "cell_type": "code",
   "execution_count": 6,
   "metadata": {},
   "outputs": [
    {
     "output_type": "stream",
     "name": "stdout",
     "text": [
      "Original content:\nThis is content of data.txt\nThis is line 2.\n\nProcessed content:\nThis Is Content Of Data.Txt\nThis Is Line 2.\n"
     ]
    }
   ],
   "source": [
    "try:\n",
    "    f = open(\"data.txt\")\n",
    "    content = f.read()\n",
    "    print(\"Original content:\")\n",
    "    print(content)\n",
    "\n",
    "    print(\"\\nProcessed content:\")\n",
    "    print(content.title())\n",
    "except FileNotFoundError as err:\n",
    "    print(err)"
   ]
  },
  {
   "cell_type": "code",
   "execution_count": 15,
   "metadata": {},
   "outputs": [
    {
     "output_type": "stream",
     "name": "stdout",
     "text": [
      "This is content of data.txt\n\nThis is line 2.\n\n"
     ]
    }
   ],
   "source": [
    "f = open(\"data.txt\")\n",
    "print(f.readline())\n",
    "print(f.readline())"
   ]
  },
  {
   "cell_type": "code",
   "execution_count": 16,
   "metadata": {},
   "outputs": [
    {
     "output_type": "stream",
     "name": "stdout",
     "text": [
      "This is content of data.txt\n\nThis is line 2.\n\nThis is line 3.\n"
     ]
    }
   ],
   "source": [
    "f = open(\"data.txt\")\n",
    "for line in f:\n",
    "    print(line)"
   ]
  },
  {
   "cell_type": "code",
   "execution_count": 17,
   "metadata": {},
   "outputs": [
    {
     "output_type": "stream",
     "name": "stdout",
     "text": [
      "This is content of data.txt\n\nThis is line 2.\n\nThis is line 3.\n"
     ]
    }
   ],
   "source": [
    "f = open(\"data.txt\")\n",
    "\n",
    "line = f.readline()\n",
    "while line:\n",
    "    print(line)\n",
    "    line = f.readline()"
   ]
  },
  {
   "cell_type": "code",
   "execution_count": 23,
   "metadata": {},
   "outputs": [
    {
     "output_type": "stream",
     "name": "stdout",
     "text": [
      "['This is content of data.txt\\n', 'This is line 2.\\n', 'This is line 3.']\nThis is line 2.\n\nThis is content of data.txt\n\nThis is line 2.\n\nThis is line 3.\n"
     ]
    }
   ],
   "source": [
    "f = open(\"data.txt\")\n",
    "lines = f.readlines()\n",
    "print(lines)\n",
    "print(lines[1])\n",
    "\n",
    "for line in lines:\n",
    "    print(line)"
   ]
  },
  {
   "cell_type": "code",
   "execution_count": 32,
   "metadata": {},
   "outputs": [
    {
     "output_type": "stream",
     "name": "stdout",
     "text": [
      "division by zero\n"
     ]
    }
   ],
   "source": [
    "try:\n",
    "    f = open(\"data.txt\", \"w\")\n",
    "    f.write(\"This code-generated data\")\n",
    "    1 / 0\n",
    "    f.write(\"Line 2\")\n",
    "except Exception as err:\n",
    "    print(err)\n",
    "finally:\n",
    "    f.close()"
   ]
  },
  {
   "cell_type": "code",
   "execution_count": 33,
   "metadata": {},
   "outputs": [],
   "source": [
    "f = open(\"data.txt\", \"w\")\n",
    "f.writelines([\"This code-generated data\\n\", \"Line 2\\n\", \"Line 3\"])\n",
    "f.close()"
   ]
  },
  {
   "cell_type": "code",
   "execution_count": 36,
   "metadata": {},
   "outputs": [],
   "source": [
    "f = open(\"data.txt\", \"w\")\n",
    "f.write(\"\\n\".join([\"This code-generated data\\n\", \"Line 2\", \"Line 3\", \"Line 4\"]))\n",
    "f.close()"
   ]
  },
  {
   "cell_type": "code",
   "execution_count": 37,
   "metadata": {},
   "outputs": [],
   "source": [
    "with open(\"data.txt\", \"w\") as f:\n",
    "    f.write(\"This code-generated data\\n\")\n",
    "    f.write(\"This code-generated data 1\\n\")\n",
    "    f.write(\"This code-generated data 2\\n\")\n",
    "    f.write(\"This code-generated data 3\")"
   ]
  },
  {
   "cell_type": "code",
   "execution_count": 41,
   "metadata": {},
   "outputs": [
    {
     "output_type": "stream",
     "name": "stdout",
     "text": [
      "Record: This Code-Generated Data\n\nRecord: This Code-Generated Data 1\n\nRecord: This Code-Generated Data 2\n\nRecord: This Code-Generated Data 3\n"
     ]
    }
   ],
   "source": [
    "import logging\n",
    "\n",
    "logger = logging.getLogger(__name__)\n",
    "\n",
    "try:\n",
    "    lines = []\n",
    "\n",
    "    # import file\n",
    "    with open(\"data.txt\") as f:\n",
    "        for line in f:\n",
    "            lines.append(line.title())\n",
    "    \n",
    "    # export to database\n",
    "    for line in lines:\n",
    "        print(\"Record:\", line)\n",
    "    \n",
    "    # 1 / 0\n",
    "except FileNotFoundError as err:\n",
    "    logging.error(err)\n",
    "except ZeroDivisionError as err:\n",
    "    logging.warning(\"Unknown error\")\n",
    "    logging.exception(err)"
   ]
  },
  {
   "cell_type": "code",
   "execution_count": 53,
   "metadata": {},
   "outputs": [
    {
     "output_type": "stream",
     "name": "stdout",
     "text": [
      "{'array': ['a', 'b', 'c'],\n 'boolean': True,\n 'field': 'value',\n 'key': 'secret',\n 'num': 1}\n\n{\n  \"field\": \"value\",\n  \"num\": 2,\n  \"boolean\": true,\n  \"array\": [\n    \"a\",\n    \"b\",\n    \"c\",\n    \"d\"\n  ],\n  \"key\": \"secret\",\n  \"none\": null\n}\n"
     ]
    }
   ],
   "source": [
    "from pprint import pprint\n",
    "import json\n",
    "\n",
    "# Simple JSON structure\n",
    "json_value = \"\"\"\n",
    "{\n",
    "    \"field\": \"value\",\n",
    "    \"num\": 1,\n",
    "    \"boolean\": true,\n",
    "    \"array\": [\"a\", \"b\", \"c\"],\n",
    "    \"key\": \"secret\"\n",
    "}\n",
    "\"\"\"\n",
    "\n",
    "py_value = json.loads(json_value)\n",
    "pprint(py_value)\n",
    "\n",
    "# Do something with py dict\n",
    "py_value[\"array\"].append(\"d\")\n",
    "py_value[\"num\"] += 1\n",
    "py_value[\"none\"] = None\n",
    "\n",
    "print(\"\")\n",
    "\n",
    "\n",
    "json_value = json.dumps(py_value, indent=2)\n",
    "print(json_value)"
   ]
  },
  {
   "cell_type": "code",
   "execution_count": null,
   "metadata": {},
   "outputs": [],
   "source": []
  }
 ]
}