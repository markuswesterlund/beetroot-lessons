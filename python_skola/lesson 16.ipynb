{
 "cells": [
  {
   "cell_type": "code",
   "execution_count": 12,
   "metadata": {
    "collapsed": true
   },
   "outputs": [
    {
     "name": "stdout",
     "output_type": "stream",
     "text": [
      "<class 'list'>\n",
      "48\n",
      "120\n",
      "88\n"
     ]
    }
   ],
   "source": [
    "import sys\n",
    "\n",
    "some_list = [1, 2, 3, 4, 5]\n",
    "\n",
    "it = filter(lambda x: x % 2 == 0, some_list)\n",
    "it_list = list(it)\n",
    "# for num in it:\n",
    "#     print(num)\n",
    "\n",
    "c_list = [x for x in range(5) if x % 2 == 0]\n",
    "print(type(c_list))\n",
    "\n",
    "print(sys.getsizeof(it))\n",
    "print(sys.getsizeof(it_list))\n",
    "print(sys.getsizeof(c_list))"
   ]
  },
  {
   "cell_type": "code",
   "execution_count": 18,
   "outputs": [
    {
     "name": "stdout",
     "output_type": "stream",
     "text": [
      "48\n",
      "Finished in 0.0239 seconds\n"
     ]
    }
   ],
   "source": [
    "import time\n",
    "\n",
    "start_time = time.perf_counter()\n",
    "\n",
    "# iterations = [x for x in range(1_000_000)]\n",
    "iterations = range(1_000_000)\n",
    "\n",
    "for _ in iterations:\n",
    "    #Do something 1_000_000 times\n",
    "    pass\n",
    "\n",
    "print(sys.getsizeof(iterations))\n",
    "\n",
    "end_time = time.perf_counter()\n",
    "run_time = end_time - start_time\n",
    "\n",
    "print (f\"Finished in {run_time:.4f} seconds\")"
   ],
   "metadata": {
    "collapsed": false,
    "pycharm": {
     "name": "#%%\n"
    }
   }
  },
  {
   "cell_type": "code",
   "execution_count": null,
   "outputs": [],
   "source": [
    "class Counter:\n",
    "    def __init__(self, start, end):\n",
    "        self.start = start\n",
    "        self.end = end\n",
    "        self.current = start\n",
    "\n",
    "    def __iter__(self):\n",
    "        return self\n",
    "\n",
    "    def __next__(self):\n",
    "        if self.current > self.end:\n",
    "            raise StopIteration\n",
    "\n",
    "        self.current += 1\n",
    "        return self.current - 1\n",
    "counter = Counter(1, 10)\n",
    "\n",
    "for num in counter:\n",
    "    print(num)"
   ],
   "metadata": {
    "collapsed": false,
    "pycharm": {
     "name": "#%%\n"
    }
   }
  }
 ],
 "metadata": {
  "kernelspec": {
   "display_name": "Python 3",
   "language": "python",
   "name": "python3"
  },
  "language_info": {
   "codemirror_mode": {
    "name": "ipython",
    "version": 2
   },
   "file_extension": ".py",
   "mimetype": "text/x-python",
   "name": "python",
   "nbconvert_exporter": "python",
   "pygments_lexer": "ipython2",
   "version": "2.7.6"
  }
 },
 "nbformat": 4,
 "nbformat_minor": 0
}