{
 "metadata": {
  "language_info": {
   "codemirror_mode": {
    "name": "ipython",
    "version": 3
   },
   "file_extension": ".py",
   "mimetype": "text/x-python",
   "name": "python",
   "nbconvert_exporter": "python",
   "pygments_lexer": "ipython3",
   "version": "3.9.1-final"
  },
  "orig_nbformat": 2,
  "kernelspec": {
   "name": "python3",
   "display_name": "Python 3.9.1 64-bit",
   "metadata": {
    "interpreter": {
     "hash": "5ce001776fa5531bbc673893aeb1fe908bd17b68b1e860b6246b812b679b5fe6"
    }
   }
  }
 },
 "nbformat": 4,
 "nbformat_minor": 2,
 "cells": [
  {
   "cell_type": "code",
   "execution_count": 1,
   "metadata": {},
   "outputs": [
    {
     "output_type": "stream",
     "name": "stdout",
     "text": [
      "Hello, world!\n\nSomething before original function.\nHello, world!\nSomething after originial function.\n"
     ]
    }
   ],
   "source": [
    "# Decorators\n",
    "\n",
    "def useless_decorator(func):\n",
    "    def wrapper():\n",
    "        print(\"Something before original function.\")\n",
    "\n",
    "        func()\n",
    "\n",
    "        print(\"Something after originial function.\")\n",
    "    \n",
    "    return wrapper\n",
    "\n",
    "def print_hello():\n",
    "    print(\"Hello, world!\")\n",
    "\n",
    "print_hello()\n",
    "\n",
    "print(\"\")\n",
    "\n",
    "print_hello = useless_decorator(print_hello)\n",
    "\n",
    "print_hello()"
   ]
  },
  {
   "cell_type": "code",
   "execution_count": 17,
   "metadata": {},
   "outputs": [
    {
     "output_type": "stream",
     "name": "stdout",
     "text": [
      "Function print_name is about to be called...\nThis is my name!\n\nprint_name\nThe print_name func documentaion\nFunction greet is about to be called...\nHello, Sergey!\nTrue\n"
     ]
    }
   ],
   "source": [
    "# apply decorator\n",
    "\n",
    "import functools\n",
    "\n",
    "# full and most complete definition of decorator in python\n",
    "def log_usage(func):\n",
    "    @functools.wraps(func)\n",
    "    def wrapper(*args, **kwargs):\n",
    "        print(\"Function {} is about to be called...\".format(func.__name__))\n",
    "        return func(*args, **kwargs)\n",
    "    \n",
    "    return wrapper\n",
    "\n",
    "@log_usage\n",
    "def print_name():\n",
    "    \"The print_name func documentaion\"\n",
    "    print(\"This is my name!\")\n",
    "\n",
    "print_name()\n",
    "\n",
    "print(\"\")\n",
    "\n",
    "print(print_name.__name__)\n",
    "print(print_name.__doc__)\n",
    "\n",
    "@log_usage\n",
    "def greet(name):\n",
    "    print(f\"Hello, {name}!\")\n",
    "    return True\n",
    "\n",
    "res = greet(\"Sergey\")\n",
    "print(res)"
   ]
  },
  {
   "cell_type": "code",
   "execution_count": 24,
   "metadata": {},
   "outputs": [
    {
     "output_type": "stream",
     "name": "stdout",
     "text": [
      "Finished 'long_running_function' in 0.0006 seconds.\n",
      "Finished 'long_running_function' in 0.0525 seconds.\n",
      "Finished 'another_long_running_func' in 2.0004 seconds.\n",
      "Finished 'another_long_running_func' in 4.0006 seconds.\n"
     ]
    }
   ],
   "source": [
    "import functools\n",
    "import time\n",
    "\n",
    "def timer(func):\n",
    "    @functools.wraps(func)\n",
    "    def wrapper(*args, **kwargs):\n",
    "        start_time = time.perf_counter()\n",
    "\n",
    "        result = func(*args, **kwargs)\n",
    "\n",
    "        end_time = time.perf_counter()\n",
    "        run_time = end_time - start_time\n",
    "\n",
    "        print(f\"Finished {func.__name__!r} in {run_time:.4f} seconds.\")\n",
    "        \n",
    "        return result\n",
    "\n",
    "    return wrapper\n",
    "\n",
    "@timer\n",
    "def long_running_function(times):\n",
    "    for _ in range(times):\n",
    "        sum([x*x for x in range(10_000)])\n",
    "\n",
    "@timer\n",
    "def another_long_running_func(t):\n",
    "    time.sleep(t)\n",
    "\n",
    "long_running_function(1)\n",
    "long_running_function(100)\n",
    "# long_running_function(999)\n",
    "another_long_running_func(2)\n",
    "another_long_running_func(4)"
   ]
  },
  {
   "cell_type": "code",
   "execution_count": null,
   "metadata": {},
   "outputs": [],
   "source": []
  }
 ]
}