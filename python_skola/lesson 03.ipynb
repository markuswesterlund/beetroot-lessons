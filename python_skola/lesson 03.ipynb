{
 "metadata": {
  "language_info": {
   "codemirror_mode": {
    "name": "ipython",
    "version": 3
   },
   "file_extension": ".py",
   "mimetype": "text/x-python",
   "name": "python",
   "nbconvert_exporter": "python",
   "pygments_lexer": "ipython3",
   "version": "3.9.1-final"
  },
  "orig_nbformat": 2,
  "kernelspec": {
   "name": "python3",
   "display_name": "Python 3.9.1 64-bit",
   "metadata": {
    "interpreter": {
     "hash": "5ce001776fa5531bbc673893aeb1fe908bd17b68b1e860b6246b812b679b5fe6"
    }
   }
  }
 },
 "nbformat": 4,
 "nbformat_minor": 2,
 "cells": [
  {
   "cell_type": "code",
   "execution_count": 1,
   "metadata": {},
   "outputs": [
    {
     "output_type": "stream",
     "name": "stdout",
     "text": [
      "<class 'bool'>\n"
     ]
    }
   ],
   "source": [
    "True\n",
    "False\n",
    "print(type(True))"
   ]
  },
  {
   "cell_type": "code",
   "execution_count": 3,
   "metadata": {},
   "outputs": [
    {
     "output_type": "execute_result",
     "data": {
      "text/plain": [
       "True"
      ]
     },
     "metadata": {},
     "execution_count": 3
    }
   ],
   "source": [
    "True or False == True\n",
    "True or True == True\n",
    "False or True == True\n",
    "False or False == False"
   ]
  },
  {
   "cell_type": "code",
   "execution_count": 5,
   "metadata": {},
   "outputs": [
    {
     "output_type": "execute_result",
     "data": {
      "text/plain": [
       "True"
      ]
     },
     "metadata": {},
     "execution_count": 5
    }
   ],
   "source": [
    "age = 15\n",
    "\n",
    "age < 16 or age > 24"
   ]
  },
  {
   "cell_type": "code",
   "execution_count": 6,
   "metadata": {},
   "outputs": [
    {
     "output_type": "execute_result",
     "data": {
      "text/plain": [
       "False"
      ]
     },
     "metadata": {},
     "execution_count": 6
    }
   ],
   "source": [
    "True and True == True\n",
    "True and False == False\n",
    "False and True == False\n",
    "False and False == False"
   ]
  },
  {
   "cell_type": "code",
   "execution_count": 17,
   "metadata": {},
   "outputs": [
    {
     "output_type": "stream",
     "name": "stdout",
     "text": [
      "You are allowed to use it!\n"
     ]
    }
   ],
   "source": [
    "age = 18\n",
    "if not (age > 16 and age < 24:)\n",
    "    print(\"You are allowed to use it!\")"
   ]
  },
  {
   "cell_type": "code",
   "execution_count": 10,
   "metadata": {},
   "outputs": [
    {
     "output_type": "execute_result",
     "data": {
      "text/plain": [
       "True"
      ]
     },
     "metadata": {},
     "execution_count": 10
    }
   ],
   "source": [
    "not True\n",
    "not False"
   ]
  },
  {
   "cell_type": "code",
   "execution_count": 15,
   "metadata": {},
   "outputs": [
    {
     "output_type": "stream",
     "name": "stdout",
     "text": [
      "You have done everything!\n"
     ]
    }
   ],
   "source": [
    "done = True\n",
    "if not done:\n",
    "    print(\"You need to complete your tasks\")\n",
    "else:\n",
    "    print(\"You have done everything!\")"
   ]
  },
  {
   "cell_type": "code",
   "execution_count": 29,
   "metadata": {},
   "outputs": [
    {
     "output_type": "stream",
     "name": "stdout",
     "text": [
      "Valid\n"
     ]
    }
   ],
   "source": [
    "username = input(\"Choose your username: \").lower()\n",
    "if len(username) > 3 and len(username) < 15:\n",
    "    print(\"Valid\")\n",
    "else:\n",
    "    print(\"Not valid\")"
   ]
  },
  {
   "cell_type": "code",
   "execution_count": 6,
   "metadata": {},
   "outputs": [
    {
     "output_type": "stream",
     "name": "stdout",
     "text": [
      "<class 'list'>\n['l', 'h', 'l', '_', 'r', 'e', 'o', 'l', 'w', 'o', '!', 'd']\nlendhendlend_endrendeendoendlendwendoend!enddend\nl:h:l:_:r:e:o:l:w:o:!:d\n"
     ]
    }
   ],
   "source": [
    "import random\n",
    "\n",
    "a_str = \"hello_world!\"\n",
    "res = random.sample(a_str, len(a_str))\n",
    "print(type(res))\n",
    "print(res)\n",
    "\n",
    "i = 0\n",
    "while i < len(a_str):\n",
    "    if i == len(a_str) -1:\n",
    "        end = \":\"\n",
    "    print(res[i], sep=\"\", end=end)\n",
    "    i += 1\n",
    "print(\"\")\n",
    "print(\":\".join(res))"
   ]
  },
  {
   "cell_type": "code",
   "execution_count": 23,
   "metadata": {},
   "outputs": [
    {
     "output_type": "stream",
     "name": "stdout",
     "text": [
      "Not a valid phone number\nYou provided a valid phone number\n"
     ]
    }
   ],
   "source": [
    "\n",
    "phone_number = \"  073-0468315  \"\n",
    "\n",
    "i = 0\n",
    "while i < len(phone_number):\n",
    "    if not phone_number[i] in \"0123456789\":\n",
    "        print(\"Not a valid phone number\")\n",
    "        break\n",
    "    i += 1\n",
    "else:\n",
    "    print(\"You provided a valid phone number\")\n",
    "\n",
    "if phone_number.strip().replace(\"-\", \"\").isdigit():\n",
    "    print(\"You provided a valid phone number\")\n",
    "else:\n",
    "    print(\"Not a valid phone number\")\n"
   ]
  },
  {
   "cell_type": "code",
   "execution_count": 11,
   "metadata": {},
   "outputs": [
    {
     "output_type": "stream",
     "name": "stdout",
     "text": [
      "True\nTrue\nFalse\n"
     ]
    }
   ],
   "source": [
    "print(\"a\" in \"abc\")\n",
    "print(\"ab\" in \"abc\")\n",
    "print(\"ac\" in \"abc\")"
   ]
  },
  {
   "cell_type": "code",
   "execution_count": 25,
   "metadata": {},
   "outputs": [
    {
     "output_type": "stream",
     "name": "stdout",
     "text": [
      "today is rainy\n"
     ]
    }
   ],
   "source": [
    "x = \"today is sunny\"\n",
    "x = \"today is rainy\"\n",
    "print(x)"
   ]
  },
  {
   "cell_type": "code",
   "execution_count": 35,
   "metadata": {},
   "outputs": [
    {
     "output_type": "stream",
     "name": "stdout",
     "text": [
      "Hello world!Today is a beautiful day.\n"
     ]
    }
   ],
   "source": [
    "message = \"Hello beautiful world!\"\n",
    "\n",
    "final_message = message[0:5] + \" \" + message[-6:] + \"Today is a \" + message[6:15] + \" day.\"\n",
    "\n",
    "print(final_message)"
   ]
  },
  {
   "cell_type": "code",
   "execution_count": 36,
   "metadata": {},
   "outputs": [
    {
     "output_type": "stream",
     "name": "stdout",
     "text": [
      "False\n"
     ]
    }
   ],
   "source": [
    "print (\"True\" is True)"
   ]
  },
  {
   "cell_type": "code",
   "execution_count": 45,
   "metadata": {},
   "outputs": [
    {
     "output_type": "stream",
     "name": "stdout",
     "text": [
      "-101\n"
     ]
    }
   ],
   "source": [
    "x = 10\n",
    "\n",
    "if x < 5:\n",
    "\n",
    "\tprint(10 + 10)\n",
    "\n",
    "elif x > 5:\n",
    "\n",
    "\tprint(101 - 202)\n",
    "\n",
    "elif x == 10:\n",
    "\n",
    "\tprint(1/0)\n",
    "\n",
    "else:\n",
    "\n",
    "\tprint(1 * 10)"
   ]
  },
  {
   "cell_type": "code",
   "execution_count": 48,
   "metadata": {},
   "outputs": [
    {
     "output_type": "stream",
     "name": "stdout",
     "text": [
      "0\n"
     ]
    }
   ],
   "source": [
    "n = 5\n",
    "\n",
    "while n > 0:\n",
    "\n",
    "    n -= 1\n",
    "\n",
    "    if (n % 2) == 0:\n",
    "\n",
    "        continue\n",
    "\n",
    "print(n)"
   ]
  },
  {
   "cell_type": "code",
   "execution_count": 58,
   "metadata": {},
   "outputs": [
    {
     "output_type": "error",
     "ename": "IndentationError",
     "evalue": "expected an indented block (<ipython-input-58-9d02c89abf4e>, line 1)",
     "traceback": [
      "\u001b[1;36m  File \u001b[1;32m\"<ipython-input-58-9d02c89abf4e>\"\u001b[1;36m, line \u001b[1;32m1\u001b[0m\n\u001b[1;33m    while 'test':\u001b[0m\n\u001b[1;37m                 ^\u001b[0m\n\u001b[1;31mIndentationError\u001b[0m\u001b[1;31m:\u001b[0m expected an indented block\n"
     ]
    }
   ],
   "source": [
    "while 'test':\n",
    "    n=100"
   ]
  },
  {
   "cell_type": "code",
   "execution_count": null,
   "metadata": {},
   "outputs": [],
   "source": []
  }
 ]
}